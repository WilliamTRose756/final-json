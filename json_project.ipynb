{
 "cells": [
  {
   "cell_type": "code",
   "execution_count": 1,
   "id": "4659e225",
   "metadata": {},
   "outputs": [],
   "source": [
    "import json\n",
    "import pandas as pd\n",
    "from pandas import json_normalize"
   ]
  },
  {
   "cell_type": "code",
   "execution_count": 2,
   "id": "f09401dd",
   "metadata": {},
   "outputs": [],
   "source": [
    "with open('data_1.json') as data_1:\n",
    "    read_content_1 = json.load(data_1)\n",
    "with open('data_2.json') as data_2:\n",
    "    read_content_2 = json.load(data_2)\n",
    "with open('data_3.json') as data_3:\n",
    "    read_content_3 = json.load(data_3)\n",
    "\n",
    "# Each contains single top level dictionary\n",
    "read_content_1 = read_content_1[0]\n",
    "read_content_2 = read_content_2[0]\n",
    "read_content_3 = read_content_3[0]\n"
   ]
  },
  {
   "cell_type": "code",
   "execution_count": 3,
   "id": "4f261520",
   "metadata": {},
   "outputs": [],
   "source": [
    "# Create empty dictionary that will hold the constant values from the top and \n",
    "# mid levels of the hiearchy\n",
    "constants_dict_1 = {}\n",
    "constants_dict_2 = {}\n",
    "constants_dict_3 = {}"
   ]
  },
  {
   "cell_type": "code",
   "execution_count": 4,
   "id": "4238543e",
   "metadata": {},
   "outputs": [],
   "source": [
    "# Retrieve the top level constants, 3 different dictionarys here \n",
    "# just in case the values differ between json 1,2,3\n",
    "top_const_keys = ['tenantName', 'eventType', 'eventTimeEpoch']\n",
    "\n",
    "for key in top_const_keys:\n",
    "    constants_dict_1.update({key : read_content_1.get(key)})\n",
    "    constants_dict_2.update({key : read_content_2.get(key)})\n",
    "    constants_dict_3.update({key : read_content_3.get(key)})    "
   ]
  },
  {
   "cell_type": "code",
   "execution_count": 7,
   "id": "90fb00d7",
   "metadata": {},
   "outputs": [],
   "source": [
    "# These will hold the individual readings and will have the constant\n",
    "# data injected into them \n",
    "data_1 = read_content_1['payload'].pop('data')\n",
    "data_2 = read_content_2['payload'].pop('data')\n",
    "data_3 = read_content_3['payload'].pop('data')\n"
   ]
  },
  {
   "cell_type": "code",
   "execution_count": 6,
   "id": "12739967",
   "metadata": {},
   "outputs": [],
   "source": [
    "# Add the mid level constant values to the top level constant values\n",
    "# Read_content['payload'] leftover after the pop represents the mid level\n",
    "# constants in the json data. \n",
    "\n",
    "mid_lvl_constants_1 = read_content_1['payload']\n",
    "constants_dict_1.update(mid_lvl_constants_1)\n",
    "\n",
    "mid_lvl_constants_2 = read_content_2['payload']\n",
    "constants_dict_2.update(mid_lvl_constants_2)\n",
    "\n",
    "mid_lvl_constants_3 = read_content_3['payload']\n",
    "constants_dict_3.update(mid_lvl_constants_3)"
   ]
  },
  {
   "cell_type": "code",
   "execution_count": 7,
   "id": "b59cfae5",
   "metadata": {},
   "outputs": [],
   "source": [
    "# Add the constant values to the individual readings\n",
    "for reading in data_1:\n",
    "    reading.update(constants_dict_1)\n",
    "\n",
    "for reading in data_2:\n",
    "    reading.update(constants_dict_2)\n",
    "\n",
    "for reading in data_3:\n",
    "    reading.update(constants_dict_3)"
   ]
  },
  {
   "cell_type": "code",
   "execution_count": 8,
   "id": "fc8242fd",
   "metadata": {},
   "outputs": [],
   "source": [
    "# Aggregate readings from all three json files\n",
    "data_total = data_1 + data_2 + data_3"
   ]
  },
  {
   "cell_type": "code",
   "execution_count": 9,
   "id": "8eaaa8f3",
   "metadata": {},
   "outputs": [],
   "source": [
    "#Create DataFrame and reorder columns, export\n",
    "df = pd.DataFrame(data_total)\n",
    "df = df[['tenantName', 'eventType', 'eventTimeEpoch', 'antenna',\n",
    "         'datetime', 'readername', 'epc', 'deviceid', 'user', \n",
    "         'tagevent', 'peakrssi', 'accountuuid', 'version']]\n",
    "\n",
    "df.to_csv('final_table.csv', index=None)"
   ]
  },
  {
   "cell_type": "markdown",
   "id": "5f2b531a",
   "metadata": {},
   "source": []
  }
 ],
 "metadata": {
  "kernelspec": {
   "display_name": "Python 3 (ipykernel)",
   "language": "python",
   "name": "python3"
  },
  "language_info": {
   "codemirror_mode": {
    "name": "ipython",
    "version": 3
   },
   "file_extension": ".py",
   "mimetype": "text/x-python",
   "name": "python",
   "nbconvert_exporter": "python",
   "pygments_lexer": "ipython3",
   "version": "3.9.7"
  },
  "vscode": {
   "interpreter": {
    "hash": "1410aa57389ebc539fdf32eaa6e41ce3a2afa4f26a7da3eac25b30a9e89ca262"
   }
  }
 },
 "nbformat": 4,
 "nbformat_minor": 5
}
